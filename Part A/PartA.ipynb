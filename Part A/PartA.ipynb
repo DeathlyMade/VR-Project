{
 "cells": [
  {
   "cell_type": "code",
   "execution_count": 23,
   "metadata": {},
   "outputs": [],
   "source": [
    "import os\n",
    "import cv2\n",
    "import numpy as np\n",
    "from skimage.feature import hog\n",
    "from sklearn.model_selection import train_test_split\n",
    "from sklearn.metrics import accuracy_score, classification_report, confusion_matrix\n",
    "from sklearn.svm import SVC\n",
    "from sklearn.neural_network import MLPClassifier\n",
    "from xgboost import XGBClassifier\n",
    "import torch\n"
   ]
  },
  {
   "cell_type": "markdown",
   "metadata": {},
   "source": [
    "## Data loading"
   ]
  },
  {
   "cell_type": "code",
   "execution_count": null,
   "metadata": {},
   "outputs": [
    {
     "name": "stderr",
     "output_type": "stream",
     "text": [
      "libpng warning: iCCP: known incorrect sRGB profile\n",
      "libpng warning: iCCP: known incorrect sRGB profile\n"
     ]
    }
   ],
   "source": [
    "np.random.seed(42)\n",
    "\n",
    "mask_dir = \"dataset/with_mask\"\n",
    "no_mask_dir = \"dataset/without_mask\"\n",
    "\n",
    "def augment_image(img):\n",
    "    augmented_imgs = []\n",
    "    augmented_imgs.append(img)\n",
    "    augmented_imgs.append(cv2.flip(img, 1))  # horizontal flip\n",
    "    augmented_imgs.append(cv2.flip(img, 0))  # vertical flip\n",
    "    return augmented_imgs\n",
    "\n",
    "def extract_hog_features(img, img_size=(128,128)):\n",
    "    resized_img = cv2.resize(img, img_size)\n",
    "    # Extract HOG features\n",
    "    hog_features = hog(resized_img, orientations=9, pixels_per_cell=(8, 8),\n",
    "                       cells_per_block=(2, 2), block_norm='L2-Hys', visualize=False)\n",
    "\n",
    "    return hog_features\n",
    "\n",
    "def load_data_with_augmentation(image_dir, label):\n",
    "    features = []\n",
    "    labels = []\n",
    "    \n",
    "    for img_name in os.listdir(image_dir):\n",
    "        img_path = os.path.join(image_dir, img_name)\n",
    "        # Read image in grayscale\n",
    "        img = cv2.imread(img_path, cv2.IMREAD_GRAYSCALE)\n",
    "        if img is None:\n",
    "            continue  \n",
    "        \n",
    "        # Augment the image (original, horizontal flip, vertical flip)\n",
    "        aug_imgs = augment_image(img)\n",
    "        \n",
    "        # Extract HOG features for each augmented version\n",
    "        for aug_img in aug_imgs:\n",
    "            hog_feat = extract_hog_features(aug_img)\n",
    "            features.append(hog_feat)\n",
    "            labels.append(label)\n",
    "    \n",
    "    return features, labels\n",
    "\n",
    "features_mask, labels_mask = load_data_with_augmentation(mask_dir, label=1)\n",
    "features_no_mask, labels_no_mask = load_data_with_augmentation(no_mask_dir, label=0)"
   ]
  },
  {
   "cell_type": "markdown",
   "metadata": {},
   "source": [
    "## Data splitting"
   ]
  },
  {
   "cell_type": "code",
   "execution_count": null,
   "metadata": {},
   "outputs": [
    {
     "name": "stdout",
     "output_type": "stream",
     "text": [
      "Total samples: 12285\n",
      "Feature vector size: 8100\n"
     ]
    }
   ],
   "source": [
    "# Combine and shuffle the data\n",
    "features = features_mask + features_no_mask\n",
    "labels = labels_mask + labels_no_mask\n",
    "\n",
    "# Shuffle the combined dataset\n",
    "combined = list(zip(features, labels))\n",
    "np.random.shuffle(combined)\n",
    "features, labels = zip(*combined)\n",
    "\n",
    "X = np.array(features)\n",
    "y = np.array(labels)\n",
    "\n",
    "print(\"Total samples:\", len(y))\n",
    "print(\"Feature vector size:\", X.shape[1])\n",
    "\n",
    "# Split the dataset into training and testing sets\n",
    "X_train, X_test, y_train, y_test = train_test_split(X, y, test_size=0.2, random_state=42, stratify=y)"
   ]
  },
  {
   "cell_type": "markdown",
   "metadata": {},
   "source": [
    "## XGBoost Classifier"
   ]
  },
  {
   "cell_type": "code",
   "execution_count": 15,
   "metadata": {},
   "outputs": [
    {
     "name": "stdout",
     "output_type": "stream",
     "text": [
      "\n",
      "Training XGBoost Classifier...\n"
     ]
    },
    {
     "name": "stderr",
     "output_type": "stream",
     "text": [
      "/Library/Frameworks/Python.framework/Versions/3.11/lib/python3.11/site-packages/xgboost/core.py:158: UserWarning: [20:05:54] WARNING: /Users/runner/work/xgboost/xgboost/src/learner.cc:740: \n",
      "Parameters: { \"use_label_encoder\" } are not used.\n",
      "\n",
      "  warnings.warn(smsg, UserWarning)\n"
     ]
    },
    {
     "name": "stdout",
     "output_type": "stream",
     "text": [
      "XGBoost Accuracy: 90.76%\n",
      "XGBoost Classification Report:\n",
      "               precision    recall  f1-score   support\n",
      "\n",
      "           0       0.92      0.89      0.90      1158\n",
      "           1       0.90      0.93      0.91      1299\n",
      "\n",
      "    accuracy                           0.91      2457\n",
      "   macro avg       0.91      0.91      0.91      2457\n",
      "weighted avg       0.91      0.91      0.91      2457\n",
      "\n"
     ]
    }
   ],
   "source": [
    "# ----------------------------\n",
    "# XGBoost Classifier\n",
    "# ----------------------------\n",
    "print(\"\\nTraining XGBoost Classifier...\")\n",
    "xgb_clf = XGBClassifier(use_label_encoder=False, eval_metric='logloss', random_state=42)\n",
    "xgb_clf.fit(X_train, y_train)\n",
    "y_pred_xgb = xgb_clf.predict(X_test)\n",
    "acc_xgb = accuracy_score(y_test, y_pred_xgb)\n",
    "print(\"XGBoost Accuracy: {:.2f}%\".format(acc_xgb*100))\n",
    "print(\"XGBoost Classification Report:\\n\", classification_report(y_test, y_pred_xgb))"
   ]
  },
  {
   "cell_type": "code",
   "execution_count": 16,
   "metadata": {},
   "outputs": [
    {
     "name": "stdout",
     "output_type": "stream",
     "text": [
      "Confusion Matrix for XGBoost:\n",
      " [[1026  132]\n",
      " [  95 1204]]\n"
     ]
    }
   ],
   "source": [
    "# Compute confusion matrix for XGBoost predictions\n",
    "cm_xgb = confusion_matrix(y_test, y_pred_xgb)\n",
    "print(\"Confusion Matrix for XGBoost:\\n\", cm_xgb)"
   ]
  },
  {
   "cell_type": "markdown",
   "metadata": {},
   "source": [
    "## SVM Classifier"
   ]
  },
  {
   "cell_type": "code",
   "execution_count": 17,
   "metadata": {},
   "outputs": [
    {
     "name": "stdout",
     "output_type": "stream",
     "text": [
      "\n",
      "Training SVM Classifier...\n",
      "SVM Accuracy: 92.51%\n",
      "SVM Classification Report:\n",
      "               precision    recall  f1-score   support\n",
      "\n",
      "           0       0.93      0.91      0.92      1158\n",
      "           1       0.92      0.94      0.93      1299\n",
      "\n",
      "    accuracy                           0.93      2457\n",
      "   macro avg       0.93      0.92      0.92      2457\n",
      "weighted avg       0.93      0.93      0.93      2457\n",
      "\n"
     ]
    }
   ],
   "source": [
    "# ----------------------------\n",
    "# SVM Classifier\n",
    "# ----------------------------\n",
    "print(\"\\nTraining SVM Classifier...\")\n",
    "svm_clf = SVC(kernel='rbf', probability=True, random_state=42)\n",
    "svm_clf.fit(X_train, y_train)\n",
    "y_pred_svm = svm_clf.predict(X_test)\n",
    "acc_svm = accuracy_score(y_test, y_pred_svm)\n",
    "print(\"SVM Accuracy: {:.2f}%\".format(acc_svm*100))\n",
    "print(\"SVM Classification Report:\\n\", classification_report(y_test, y_pred_svm))"
   ]
  },
  {
   "cell_type": "code",
   "execution_count": 18,
   "metadata": {},
   "outputs": [
    {
     "name": "stdout",
     "output_type": "stream",
     "text": [
      "Confusion Matrix for SVM:\n",
      " [[1052  106]\n",
      " [  78 1221]]\n"
     ]
    }
   ],
   "source": [
    "# Compute confusion matrix for SVM predictions\n",
    "cm_svm = confusion_matrix(y_test, y_pred_svm)\n",
    "print(\"Confusion Matrix for SVM:\\n\", cm_svm)"
   ]
  },
  {
   "cell_type": "markdown",
   "metadata": {},
   "source": [
    "## Neural Network Classifier"
   ]
  },
  {
   "cell_type": "code",
   "execution_count": 19,
   "metadata": {},
   "outputs": [
    {
     "name": "stdout",
     "output_type": "stream",
     "text": [
      "\n",
      "Training Neural Network (MLP) Classifier...\n",
      "MLP Accuracy: 89.05%\n",
      "MLP Classification Report:\n",
      "               precision    recall  f1-score   support\n",
      "\n",
      "           0       0.89      0.88      0.88      1158\n",
      "           1       0.89      0.90      0.90      1299\n",
      "\n",
      "    accuracy                           0.89      2457\n",
      "   macro avg       0.89      0.89      0.89      2457\n",
      "weighted avg       0.89      0.89      0.89      2457\n",
      "\n"
     ]
    }
   ],
   "source": [
    "# ----------------------------\n",
    "# Neural Network Classifier (MLP)\n",
    "# ----------------------------\n",
    "print(\"\\nTraining Neural Network (MLP) Classifier...\")\n",
    "mlp_clf = MLPClassifier(hidden_layer_sizes=(100,), activation='relu', solver='adam', \n",
    "                        max_iter=200, random_state=42)\n",
    "mlp_clf.fit(X_train, y_train)\n",
    "y_pred_mlp = mlp_clf.predict(X_test)\n",
    "acc_mlp = accuracy_score(y_test, y_pred_mlp)\n",
    "print(\"MLP Accuracy: {:.2f}%\".format(acc_mlp*100))\n",
    "print(\"MLP Classification Report:\\n\", classification_report(y_test, y_pred_mlp))"
   ]
  },
  {
   "cell_type": "code",
   "execution_count": 20,
   "metadata": {},
   "outputs": [
    {
     "name": "stdout",
     "output_type": "stream",
     "text": [
      "Confusion Matrix for MLP:\n",
      " [[1015  143]\n",
      " [ 126 1173]]\n"
     ]
    }
   ],
   "source": [
    "# Compute confusion matrix for MLP predictions\n",
    "cm_mlp = confusion_matrix(y_test, y_pred_mlp)\n",
    "print(\"Confusion Matrix for MLP:\\n\", cm_mlp)"
   ]
  },
  {
   "cell_type": "markdown",
   "metadata": {},
   "source": [
    "## Performance Metrics"
   ]
  },
  {
   "cell_type": "code",
   "execution_count": 24,
   "metadata": {},
   "outputs": [
    {
     "name": "stdout",
     "output_type": "stream",
     "text": [
      "\n",
      "Summary of Classification Accuracies:\n",
      "SVM: 92.51%\n",
      "MLP: 89.05%\n",
      "XGBoost: 90.76%\n"
     ]
    }
   ],
   "source": [
    "# ----------------------------\n",
    "# Summary: Compare accuracies\n",
    "# ----------------------------\n",
    "print(\"\\nSummary of Classification Accuracies:\")\n",
    "print(\"SVM: {:.2f}%\".format(acc_svm*100))\n",
    "print(\"MLP: {:.2f}%\".format(acc_mlp*100))\n",
    "print(\"XGBoost: {:.2f}%\".format(acc_xgb*100))"
   ]
  },
  {
   "cell_type": "markdown",
   "metadata": {},
   "source": [
    "## Saving models"
   ]
  },
  {
   "cell_type": "code",
   "execution_count": 25,
   "metadata": {},
   "outputs": [],
   "source": [
    "# Save the trained models as .pth files\n",
    "torch.save(svm_clf, 'svm_model.pth')\n",
    "torch.save(mlp_clf, 'mlp_model.pth')\n",
    "torch.save(xgb_clf, 'xgb_model.pth')"
   ]
  }
 ],
 "metadata": {
  "kernelspec": {
   "display_name": "Python 3",
   "language": "python",
   "name": "python3"
  },
  "language_info": {
   "codemirror_mode": {
    "name": "ipython",
    "version": 3
   },
   "file_extension": ".py",
   "mimetype": "text/x-python",
   "name": "python",
   "nbconvert_exporter": "python",
   "pygments_lexer": "ipython3",
   "version": "3.11.2"
  }
 },
 "nbformat": 4,
 "nbformat_minor": 2
}
